{
 "cells": [
  {
   "cell_type": "code",
   "execution_count": 1,
   "metadata": {},
   "outputs": [],
   "source": [
    "import pandas as pd\n",
    "import numpy as np\n",
    "from pypfopt.expected_returns import returns_from_prices\n",
    "from pypfopt.risk_models import CovarianceShrinkage\n",
    "from pypfopt.efficient_frontier import EfficientFrontier"
   ]
  },
  {
   "cell_type": "markdown",
   "metadata": {},
   "source": [
    "### Creating portfolio based on LSTM prediction"
   ]
  },
  {
   "cell_type": "code",
   "execution_count": 3,
   "metadata": {},
   "outputs": [],
   "source": [
    "data = pd.read_excel('Stocks_Adj_Close_Data.xlsx', sheet_name = 'LSTM')\n",
    "data['Date'] = pd.to_datetime(data['Date'], format='%m/%d/%Y') \n",
    "data.set_index('Date', inplace=True)\n",
    "data = data.fillna(method='ffill')  \n",
    "data = data.fillna(method='bfill')"
   ]
  },
  {
   "cell_type": "code",
   "execution_count": 4,
   "metadata": {},
   "outputs": [],
   "source": [
    "actual_returns = data[['sp', 'ftse', 'nikkei', 'apple', 'goog', 'amzn', 'amd']].pct_change().dropna()\n",
    "predicted_returns = data[['pred_sp', 'pred_ftse', 'pred_nikkei', 'pred_apple', 'pred_goog', 'pred_amzn', 'pred_amd']].pct_change().dropna()\n",
    "\n",
    "mean_actual_returns = actual_returns.mean()\n",
    "mean_predicted_returns = predicted_returns.mean()"
   ]
  },
  {
   "cell_type": "code",
   "execution_count": 6,
   "metadata": {},
   "outputs": [
    {
     "name": "stdout",
     "output_type": "stream",
     "text": [
      "Short Sell Candidates based on Predictions:\n",
      "pred_nikkei   -0.002125\n",
      "pred_sp       -0.001546\n",
      "dtype: float64\n"
     ]
    }
   ],
   "source": [
    "short_candidates = predicted_returns.mean().nsmallest(2) \n",
    "\n",
    "print(\"Short Sell Candidates based on Predictions:\")\n",
    "print(short_candidates)"
   ]
  },
  {
   "cell_type": "markdown",
   "metadata": {},
   "source": [
    "We decided to sell the Nikkei and Sp at the higher price and buy at the lower price at the end"
   ]
  },
  {
   "cell_type": "code",
   "execution_count": 27,
   "metadata": {},
   "outputs": [
    {
     "name": "stdout",
     "output_type": "stream",
     "text": [
      "Profit from Nikkei: $1793.66\n",
      "Profit from S&P 500: $170.10\n",
      "Total Profit from buying low and selling high: $1963.76\n"
     ]
    }
   ],
   "source": [
    "initial_nikkei_price = data['pred_nikkei'].iloc[0]\n",
    "final_nikkei_price = data['pred_nikkei'].iloc[-1]\n",
    "initial_sp_price = data['pred_sp'].iloc[0]\n",
    "final_sp_price = data['pred_sp'].iloc[-1]\n",
    "\n",
    "profit_nikkei = initial_nikkei_price - final_nikkei_price\n",
    "profit_sp = initial_sp_price - final_sp_price\n",
    "\n",
    "total_profit = profit_nikkei + profit_sp\n",
    "\n",
    "print(f\"Profit from Nikkei: ${profit_nikkei:.2f}\")\n",
    "print(f\"Profit from S&P 500: ${profit_sp:.2f}\")\n",
    "print(f\"Total Profit from buying low and selling high: ${total_profit:.2f}\")"
   ]
  },
  {
   "cell_type": "code",
   "execution_count": 50,
   "metadata": {},
   "outputs": [
    {
     "name": "stdout",
     "output_type": "stream",
     "text": [
      "Total Allocated: $135559.81\n",
      "Investment per Stock (Adjusted for Whole Shares):\n",
      "pred_nikkei: $39235.92, Shares: 1.0\n",
      "pred_sp: $30495.48, Shares: 6.0\n",
      "pred_ftse: $38502.05, Shares: 5.000000000000001\n",
      "pred_apple: $5385.60, Shares: 30.0\n",
      "pred_goog: $5483.02, Shares: 38.0\n",
      "pred_amzn: $5504.05, Shares: 31.0\n",
      "pred_amd: $10953.69, Shares: 57.0\n"
     ]
    }
   ],
   "source": [
    "import numpy as np\n",
    "\n",
    "predicted_returns = {\n",
    "    'pred_ftse': 0.000092,\n",
    "    'pred_apple': 0.002119,\n",
    "    'pred_goog': 0.001572,\n",
    "    'pred_amzn': 0.000545,\n",
    "    'pred_amd': 0.003002,  # High return but considered risky\n",
    "    'pred_sp': -0.001546,\n",
    "    'pred_nikkei': -0.002125\n",
    "}\n",
    "\n",
    "predicted_prices = {\n",
    "    'pred_ftse': 7700.41,\n",
    "    'pred_apple': 179.52,\n",
    "    'pred_goog': 144.29,\n",
    "    'pred_amzn': 177.55,\n",
    "    'pred_amd': 192.17,\n",
    "    'pred_sp': 5082.58,\n",
    "    'pred_nikkei': 39235.92\n",
    "}\n",
    "\n",
    "closing_prices = {\n",
    "    'pred_ftse': 7715.91,\n",
    "    'pred_apple': 188.07,\n",
    "    'pred_goog': 150.00,\n",
    "    'pred_amzn': 149.36,\n",
    "    'pred_amd': 205.27,\n",
    "    'pred_sp': 4912.48,\n",
    "    'pred_nikkei': 37442.26\n",
    "}\n",
    "\n",
    "total_investment = 150000\n",
    "\n",
    "nikkei_share_cost = predicted_prices['pred_nikkei']\n",
    "remaining_funds = total_investment - nikkei_share_cost\n",
    "\n",
    "categories = {'negative': [], 'low_to_moderate': [], 'high': [], 'volatile': []}\n",
    "for stock, return_ in predicted_returns.items():\n",
    "    if stock == 'pred_nikkei':  \n",
    "        continue\n",
    "    if return_ < 0:\n",
    "        categories['negative'].append(stock)\n",
    "    elif return_ < 0.0002:\n",
    "        categories['low_to_moderate'].append(stock)\n",
    "    else:\n",
    "        categories['high'].append(stock)\n",
    "categories['volatile'].append('pred_amd')  \n",
    "\n",
    "budget_allocation = {\n",
    "    'negative': remaining_funds * 0.3,\n",
    "    'low_to_moderate': remaining_funds * 0.4,\n",
    "    'high': remaining_funds * 0.2,  \n",
    "    'volatile': remaining_funds * 0.1 \n",
    "}\n",
    "\n",
    "\n",
    "stock_investment = {'pred_nikkei': nikkei_share_cost}  \n",
    "for category, stocks in categories.items():\n",
    "    amount_per_stock = budget_allocation[category] / len(stocks)\n",
    "    for stock in stocks:\n",
    "        price = predicted_prices[stock]\n",
    "        shares = np.floor(amount_per_stock / price)\n",
    "        stock_investment[stock] = shares * price\n",
    "\n",
    "\n",
    "total_allocated = sum(stock_investment.values())\n",
    "print(f\"Total Allocated: ${total_allocated:.2f}\")\n",
    "\n",
    "\n",
    "print(\"Investment per Stock (Adjusted for Whole Shares):\")\n",
    "for stock, investment in stock_investment.items():\n",
    "    print(f\"{stock}: ${investment:.2f}, Shares: {investment / predicted_prices[stock]}\")"
   ]
  },
  {
   "cell_type": "code",
   "execution_count": 34,
   "metadata": {},
   "outputs": [
    {
     "name": "stdout",
     "output_type": "stream",
     "text": [
      "Total Allocated after redistribution: $149902.46\n",
      "Investment per Stock (Adjusted for Whole Shares, after redistribution):\n",
      "pred_nikkei: $39235.92, Shares: 1.0\n",
      "pred_sp: $30495.48, Shares: 6.0\n",
      "pred_ftse: $46202.46, Shares: 6.000000000000001\n",
      "pred_apple: $12027.84, Shares: 67.0\n",
      "pred_goog: $5483.02, Shares: 38.00000000000001\n",
      "pred_amzn: $5504.05, Shares: 31.0\n",
      "pred_amd: $10953.69, Shares: 57.00000000000001\n"
     ]
    }
   ],
   "source": [
    "import numpy as np\n",
    "\n",
    "\n",
    "predicted_prices = {\n",
    "    'pred_ftse': 7700.41,\n",
    "    'pred_apple': 179.52,\n",
    "    'pred_goog': 144.29,\n",
    "    'pred_amzn': 177.55,\n",
    "    'pred_amd': 192.17,\n",
    "    'pred_sp': 5082.58,\n",
    "    'pred_nikkei': 39235.92\n",
    "}\n",
    "\n",
    "\n",
    "stock_investment = {\n",
    "    'pred_nikkei': 39235.92,  # Shares: 1\n",
    "    'pred_sp': 30495.48,      # Shares: 6\n",
    "    'pred_ftse': 38502.05,    # Shares: 5\n",
    "    'pred_apple': 5385.60,    # Shares: 30\n",
    "    'pred_goog': 5483.02,     # Shares: 38\n",
    "    'pred_amzn': 5504.05,     # Shares: 31\n",
    "    'pred_amd': 10953.69      # Shares: 57\n",
    "}\n",
    "\n",
    "\n",
    "total_allocated = sum(stock_investment.values())\n",
    "remaining_funds = total_investment - total_allocated\n",
    "\n",
    "\n",
    "middle_return_stocks = ['pred_ftse', 'pred_apple', 'pred_goog', 'pred_amzn']  \n",
    "\n",
    "\n",
    "for stock in middle_return_stocks:\n",
    "    if remaining_funds > 0:\n",
    "        price = predicted_prices[stock]\n",
    "        additional_shares = np.floor(remaining_funds / price)\n",
    "        additional_investment = additional_shares * price\n",
    "        stock_investment[stock] += additional_investment\n",
    "        remaining_funds -= additional_investment\n",
    "\n",
    "\n",
    "total_allocated = sum(stock_investment.values())\n",
    "remaining_funds = total_investment - total_allocated\n",
    "\n",
    "print(f\"Total Allocated after redistribution: ${total_allocated:.2f}\")\n",
    "print(\"Investment per Stock (Adjusted for Whole Shares, after redistribution):\")\n",
    "for stock, investment in stock_investment.items():\n",
    "    print(f\"{stock}: ${investment:.2f}, Shares: {investment / predicted_prices[stock]}\")"
   ]
  },
  {
   "cell_type": "code",
   "execution_count": 44,
   "metadata": {},
   "outputs": [
    {
     "name": "stdout",
     "output_type": "stream",
     "text": [
      "End-of-Month Portfolio Value (excluding Nikkei and S&P): $68215.96\n",
      "Total Initial Investment (excluding Nikkei and S&P): $65828.41\n",
      "Profit from Swing Trading Nikkei and S&P: $1963.76\n",
      "Total Return: $2387.55\n",
      "Return Percentage: 3.63%\n",
      "Total Return (including Swing Trading): $4351.3099999999995\n"
     ]
    }
   ],
   "source": [
    "import numpy as np\n",
    "\n",
    "\n",
    "predicted_prices = {\n",
    "    'pred_ftse': 7700.41, 'pred_apple': 179.52, 'pred_goog': 144.29,\n",
    "    'pred_amzn': 177.55, 'pred_amd': 192.17, 'pred_sp': 5082.58, 'pred_nikkei': 39235.92\n",
    "}\n",
    "\n",
    "closing_prices = {\n",
    "    'pred_ftse': 7715.91, 'pred_apple': 188.07, 'pred_goog': 150.00,\n",
    "    'pred_amzn': 149.36, 'pred_amd': 205.27, 'pred_sp': 4912.48, 'pred_nikkei': 37442.26\n",
    "}\n",
    "\n",
    "\n",
    "stock_investment = {\n",
    "    'pred_ftse': 38502.05,    # Shares: 5\n",
    "    'pred_apple': 5385.60,    # Shares: 30\n",
    "    'pred_goog': 5483.02,     # Shares: 38\n",
    "    'pred_amzn': 5504.05,     # Shares: 31\n",
    "    'pred_amd': 10953.69      # Shares: 57\n",
    "}\n",
    "\n",
    "end_of_month_values = {stock: (stock_investment[stock] / predicted_prices[stock]) * closing_prices[stock] for stock in stock_investment}\n",
    "total_end_of_month_value = sum(end_of_month_values.values())\n",
    "\n",
    "total_initial_investment = sum(stock_investment.values())\n",
    "\n",
    "\n",
    "initial_nikkei_price = predicted_prices['pred_nikkei']\n",
    "final_nikkei_price = closing_prices['pred_nikkei']\n",
    "initial_sp_price = predicted_prices['pred_sp']\n",
    "final_sp_price = closing_prices['pred_sp']\n",
    "\n",
    "profit_nikkei = initial_nikkei_price - final_nikkei_price\n",
    "profit_sp = initial_sp_price - final_sp_price\n",
    "\n",
    "total_swing_profit = profit_nikkei + profit_sp\n",
    "\n",
    "\n",
    "total_end_of_month_value += total_swing_profit\n",
    "\n",
    "\n",
    "total_return = total_end_of_month_value - total_initial_investment\n",
    "return_percentage = (total_return / total_initial_investment) * 100\n",
    "total_return_of_portfel = total_swing_profit + total_return\n",
    "\n",
    "print(f\"End-of-Month Portfolio Value (excluding Nikkei and S&P): ${total_end_of_month_value:.2f}\")\n",
    "print(f\"Total Initial Investment (excluding Nikkei and S&P): ${total_initial_investment:.2f}\")\n",
    "print(f\"Profit from Swing Trading Nikkei and S&P: ${total_swing_profit:.2f}\")\n",
    "print(f\"Total Return: ${total_return:.2f}\")\n",
    "print(f\"Return Percentage: {return_percentage:.2f}%\")\n",
    "print(f\"Total Return (including Swing Trading): ${total_return_of_portfel}\")"
   ]
  },
  {
   "cell_type": "markdown",
   "metadata": {},
   "source": [
    "### Actual prices"
   ]
  },
  {
   "cell_type": "code",
   "execution_count": 42,
   "metadata": {},
   "outputs": [
    {
     "name": "stdout",
     "output_type": "stream",
     "text": [
      "Profit from Nikkei: $1762.41\n",
      "Profit from S&P 500: $218.66\n",
      "Total Profit from buying low and selling high: $1981.07\n"
     ]
    }
   ],
   "source": [
    "\n",
    "initial_nikkei_price = data['nikkei'].iloc[0]\n",
    "final_nikkei_price = data['nikkei'].iloc[-1]\n",
    "initial_sp_price = data['sp'].iloc[0]\n",
    "final_sp_price = data['sp'].iloc[-1]\n",
    "\n",
    "\n",
    "profit_nikkei = initial_nikkei_price - final_nikkei_price\n",
    "profit_sp = initial_sp_price - final_sp_price\n",
    "\n",
    "\n",
    "total_profit = profit_nikkei + profit_sp\n",
    "\n",
    "\n",
    "print(f\"Profit from Nikkei: ${profit_nikkei:.2f}\")\n",
    "print(f\"Profit from S&P 500: ${profit_sp:.2f}\")\n",
    "print(f\"Total Profit from buying low and selling high: ${total_profit:.2f}\")"
   ]
  },
  {
   "cell_type": "code",
   "execution_count": 48,
   "metadata": {},
   "outputs": [
    {
     "name": "stdout",
     "output_type": "stream",
     "text": [
      "End-of-Month Portfolio Value (excluding Nikkei and S&P): $68520.60\n",
      "Total Initial Investment (excluding Nikkei and S&P): $66572.99\n",
      "Profit from Swing Trading Nikkei and S&P: $1981.07\n",
      "Total Return: $1947.61\n",
      "Return Percentage: 2.93%\n",
      "Total Return (including Swing Trading): $3928.6799999999976\n"
     ]
    }
   ],
   "source": [
    "import numpy as np\n",
    "\n",
    "\n",
    "actual_prices = {\n",
    "    'ftse':  7952.60 , 'apple':  171.48 , 'goog':  152.26 ,\n",
    "    'amzn':  180.38 , 'amd':  180.49 , 'sp':  5254.35 , 'nikkei':  40168.07 \n",
    "}\n",
    "\n",
    "closing_prices = {\n",
    "    'ftse':  8144.13 , 'apple':  170.33 , 'goog':  164.64 ,\n",
    "    'amzn':  175.00 , 'amd':  158.38 , 'sp':  5035.69 , 'nikkei':  38405.66 \n",
    "}\n",
    "\n",
    "stock_investment = {\n",
    "    'ftse': 39763,    # Shares: 5\n",
    "    'apple': 5144.4,    # Shares: 30\n",
    "    'goog': 5785.88,     # Shares: 38\n",
    "    'amzn': 5591.78,     # Shares: 31\n",
    "    'amd': 10287.93     # Shares: 57\n",
    "}\n",
    "\n",
    "\n",
    "end_of_month_values = {stock: (stock_investment[stock] / actual_prices[stock]) * closing_prices[stock] for stock in stock_investment}\n",
    "total_end_of_month_value = sum(end_of_month_values.values())\n",
    "\n",
    "\n",
    "total_initial_investment = sum(stock_investment.values())\n",
    "\n",
    "\n",
    "initial_nikkei_price = actual_prices['nikkei']\n",
    "final_nikkei_price = closing_prices['nikkei']\n",
    "initial_sp_price = actual_prices['sp']\n",
    "final_sp_price = closing_prices['sp']\n",
    "\n",
    "profit_nikkei = initial_nikkei_price - final_nikkei_price\n",
    "profit_sp = initial_sp_price - final_sp_price\n",
    "\n",
    "total_swing_profit = profit_nikkei + profit_sp\n",
    "\n",
    "\n",
    "total_end_of_month_value += total_swing_profit\n",
    "\n",
    "\n",
    "total_return = total_end_of_month_value - total_initial_investment\n",
    "return_percentage = (total_return / total_initial_investment) * 100\n",
    "total_return_of_portfel = total_swing_profit + total_return\n",
    "\n",
    "\n",
    "print(f\"End-of-Month Portfolio Value (excluding Nikkei and S&P): ${total_end_of_month_value:.2f}\")\n",
    "print(f\"Total Initial Investment (excluding Nikkei and S&P): ${total_initial_investment:.2f}\")\n",
    "print(f\"Profit from Swing Trading Nikkei and S&P: ${total_swing_profit:.2f}\")\n",
    "print(f\"Total Return: ${total_return:.2f}\")\n",
    "print(f\"Return Percentage: {return_percentage:.2f}%\")\n",
    "print(f\"Total Return (including Swing Trading): ${total_return_of_portfel}\")"
   ]
  }
 ],
 "metadata": {
  "kernelspec": {
   "display_name": "base",
   "language": "python",
   "name": "python3"
  },
  "language_info": {
   "codemirror_mode": {
    "name": "ipython",
    "version": 3
   },
   "file_extension": ".py",
   "mimetype": "text/x-python",
   "name": "python",
   "nbconvert_exporter": "python",
   "pygments_lexer": "ipython3",
   "version": "3.8.8"
  }
 },
 "nbformat": 4,
 "nbformat_minor": 2
}
