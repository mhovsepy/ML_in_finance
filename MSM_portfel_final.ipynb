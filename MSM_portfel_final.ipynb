{
 "cells": [
  {
   "cell_type": "code",
   "execution_count": 52,
   "metadata": {},
   "outputs": [],
   "source": [
    "import pandas as pd\n",
    "import pandas as pd\n",
    "import numpy as np\n",
    "from pypfopt.expected_returns import returns_from_prices\n",
    "from pypfopt.risk_models import CovarianceShrinkage\n",
    "from pypfopt.efficient_frontier import EfficientFrontier\n",
    "\n",
    "\n",
    "data = pd.read_excel('Stocks_Adj_Close_Data.xlsx', sheet_name='MSM')\n",
    "data['Date'] = pd.to_datetime(data['Date'], format='%m/%d/%Y') \n",
    "data.set_index('Date', inplace=True) \n",
    "data = data.fillna(method='ffill')\n",
    "data = data.fillna(method='bfill')"
   ]
  },
  {
   "cell_type": "code",
   "execution_count": 33,
   "metadata": {},
   "outputs": [],
   "source": [
    "predicted_prices = data[['pred_sp', 'pred_ftse', 'pred_nikkei', 'pred_apple', 'pred_goog', 'pred_amzn', 'pred_amd']]\n",
    "predicted_returns = returns_from_prices(predicted_prices)"
   ]
  },
  {
   "cell_type": "markdown",
   "metadata": {},
   "source": [
    "Regime 0 (Bullish): Increase or maintain long positions.\n",
    "Regime 1 (Bearish): Short sell or reduce exposure."
   ]
  },
  {
   "cell_type": "code",
   "execution_count": 34,
   "metadata": {},
   "outputs": [
    {
     "data": {
      "text/plain": [
       "pred_sp        0.010047\n",
       "pred_ftse      0.003312\n",
       "pred_nikkei   -0.013611\n",
       "pred_apple     0.005776\n",
       "pred_goog      0.016850\n",
       "pred_amzn     -0.001645\n",
       "pred_amd       0.008492\n",
       "dtype: float64"
      ]
     },
     "execution_count": 34,
     "metadata": {},
     "output_type": "execute_result"
    }
   ],
   "source": [
    "predicted_returns.sum()"
   ]
  },
  {
   "cell_type": "code",
   "execution_count": 74,
   "metadata": {},
   "outputs": [
    {
     "name": "stdout",
     "output_type": "stream",
     "text": [
      "Capital used for one share of Nikkei: $40387.77\n",
      "Remaining Capital: $109612.23\n",
      "Adjusted investment per stock favoring Google and more to FTSE than Apple or AMD:\n",
      "pred_sp       22258.303349\n",
      "pred_ftse     16199.135472\n",
      "pred_apple     8365.417881\n",
      "pred_goog     48406.880480\n",
      "pred_amd      14382.492818\n",
      "dtype: float64\n"
     ]
    }
   ],
   "source": [
    "import pandas as pd\n",
    "\n",
    "\n",
    "predicted_returns = pd.Series({\n",
    "    'pred_sp': 0.010047,\n",
    "    'pred_nikkei': -0.013611,  # Only buying one share, no further investment\n",
    "    'pred_ftse': 0.003312,     # FTSE 100\n",
    "    'pred_apple': 0.005776,\n",
    "    'pred_goog': 0.016850,     # Highest return, favoring heavily\n",
    "    'pred_amzn': -0.001645,    # Not investing in Amazon\n",
    "    'pred_amd': 0.008492\n",
    "})\n",
    "\n",
    "# Price of one share of Nikkei and total capital\n",
    "price_nikkei = 40387.77\n",
    "total_investment = 150000\n",
    "\n",
    "# Calculate remaining capital after purchasing one share of Nikkei\n",
    "remaining_capital = total_investment - price_nikkei\n",
    "\n",
    "# Remove Amazon and negative returns from the calculation\n",
    "predicted_returns = predicted_returns.drop(['pred_amzn', 'pred_nikkei'])  # Remove Amazon and Nikkei\n",
    "positive_returns = predicted_returns[predicted_returns > 0]\n",
    "\n",
    "\n",
    "positive_returns['pred_goog'] += 0.005  # Large increase for Google\n",
    "positive_returns['pred_ftse'] += 0.004  # Significant increase for FTSE\n",
    "\n",
    "# Decrease weight for AMD and Apple, ensuring FTSE gets more than either\n",
    "positive_returns['pred_amd'] -= 0.002  # Decrease AMD slightly\n",
    "positive_returns['pred_apple'] -= 0.002  # Decrease Apple slightly\n",
    "\n",
    "normalized_positive_returns = positive_returns / positive_returns.sum()\n",
    "\n",
    "\n",
    "investment_per_stock = normalized_positive_returns * remaining_capital\n",
    "\n",
    "\n",
    "print(f\"Capital used for one share of Nikkei: ${price_nikkei:.2f}\")\n",
    "print(f\"Remaining Capital: ${remaining_capital:.2f}\")\n",
    "print(\"Adjusted investment per stock favoring Google and more to FTSE than Apple or AMD:\")\n",
    "print(investment_per_stock)"
   ]
  },
  {
   "cell_type": "code",
   "execution_count": null,
   "metadata": {},
   "outputs": [],
   "source": [
    "closing_prices = {\n",
    "    'pred_ftse':  7981.14 ,\n",
    "    'pred_apple':  172.72 ,\n",
    "    'pred_goog':  154.98 ,\n",
    "    'pred_amd':  182.11 ,\n",
    "    'pred_sp':  5310.81 ,\n",
    "    'pred_nikkei':  39841.36 \n",
    "}\n",
    "\n"
   ]
  },
  {
   "cell_type": "code",
   "execution_count": 75,
   "metadata": {},
   "outputs": [
    {
     "name": "stdout",
     "output_type": "stream",
     "text": [
      "Capital used for one share of Nikkei: $40387.77\n",
      "Remaining Capital: $109612.23\n",
      "Investment per stock favoring Google and more to FTSE than Apple or AMD:\n",
      "pred_sp       22258.303349\n",
      "pred_ftse     16199.135472\n",
      "pred_apple     8365.417881\n",
      "pred_goog     48406.880480\n",
      "pred_amd      14382.492818\n",
      "dtype: float64\n",
      "Number of shares to buy for each stock:\n",
      "{'pred_sp': 4, 'pred_ftse': 2, 'pred_apple': 48, 'pred_goog': 317, 'pred_amd': 79}\n"
     ]
    }
   ],
   "source": [
    "import pandas as pd\n",
    "\n",
    "\n",
    "predicted_returns = pd.Series({\n",
    "    'pred_sp': 0.010047,\n",
    "    'pred_nikkei': -0.013611,  # Only buying one share, no further investment\n",
    "    'pred_ftse': 0.003312,     # FTSE 100\n",
    "    'pred_apple': 0.005776,\n",
    "    'pred_goog': 0.016850,     # Highest return, favoring heavily\n",
    "    'pred_amzn': -0.001645,    # Not investing in Amazon\n",
    "    'pred_amd': 0.008492\n",
    "})\n",
    "\n",
    "\n",
    "predicted_prices = {\n",
    "    'pred_ftse': 7954.76,\n",
    "    'pred_apple': 171.72,\n",
    "    'pred_goog': 152.39,\n",
    "    'pred_amd': 180.57,\n",
    "    'pred_sp': 5257.74,\n",
    "    'pred_nikkei': 40387.77\n",
    "}\n",
    "\n",
    "\n",
    "price_nikkei = 40387.77\n",
    "total_investment = 150000\n",
    "\n",
    "\n",
    "remaining_capital = total_investment - price_nikkei\n",
    "\n",
    "\n",
    "predicted_returns = predicted_returns.drop(['pred_amzn', 'pred_nikkei'])\n",
    "positive_returns = predicted_returns[predicted_returns > 0]\n",
    "\n",
    "\n",
    "positive_returns['pred_goog'] += 0.005\n",
    "positive_returns['pred_ftse'] += 0.004\n",
    "positive_returns['pred_amd'] -= 0.002\n",
    "positive_returns['pred_apple'] -= 0.002\n",
    "\n",
    "\n",
    "normalized_positive_returns = positive_returns / positive_returns.sum()\n",
    "\n",
    "\n",
    "investment_per_stock = normalized_positive_returns * remaining_capital\n",
    "\n",
    "\n",
    "shares_to_buy = {stock: investment_per_stock[stock] / predicted_prices[stock] for stock in investment_per_stock.index}\n",
    "shares_to_buy = {stock: int(shares) for stock, shares in shares_to_buy.items()}  # Convert to whole numbers\n",
    "\n",
    "\n",
    "print(f\"Capital used for one share of Nikkei: ${price_nikkei:.2f}\")\n",
    "print(f\"Remaining Capital: ${remaining_capital:.2f}\")\n",
    "print(\"Investment per stock favoring Google and more to FTSE than Apple or AMD:\")\n",
    "print(investment_per_stock)\n",
    "print(\"Number of shares to buy for each stock:\")\n",
    "print(shares_to_buy)"
   ]
  },
  {
   "cell_type": "code",
   "execution_count": 78,
   "metadata": {},
   "outputs": [
    {
     "name": "stdout",
     "output_type": "stream",
     "text": [
      "Profit from Nikkei: $674.93\n",
      "Total Profit from buying low and selling high: $674.93\n"
     ]
    }
   ],
   "source": [
    "initial_nikkei_price = data['pred_nikkei'].iloc[8]\n",
    "final_nikkei_price = data['pred_nikkei'].iloc[-1]\n",
    "\n",
    "profit_nikkei = initial_nikkei_price - final_nikkei_price\n",
    "\n",
    "total_profit = profit_nikkei \n",
    "\n",
    "print(f\"Profit from Nikkei: ${profit_nikkei:.2f}\")\n",
    "print(f\"Total Profit from buying low and selling high: ${total_profit:.2f}\")"
   ]
  },
  {
   "cell_type": "code",
   "execution_count": 80,
   "metadata": {},
   "outputs": [
    {
     "name": "stdout",
     "output_type": "stream",
     "text": [
      "End-of-Month Portfolio Value (excluding Nikkei): $111559.64\n",
      "Total Initial Investment (excluding Nikkei): $109612.23\n",
      "Profit from Swing Trading Nikkei: $674.93\n",
      "Total Return: $1947.41\n",
      "Return Percentage: 1.78%\n",
      "Total Return (including Swing Trading): $2622.3429520156715\n"
     ]
    }
   ],
   "source": [
    "import numpy as np\n",
    "\n",
    "predicted_prices = {\n",
    "    'pred_ftse': 7954.76,\n",
    "    'pred_apple': 171.72,\n",
    "    'pred_goog': 152.39,\n",
    "    'pred_amd': 180.57,\n",
    "    'pred_sp': 5257.74,\n",
    "    'pred_nikkei':  40516.29 #[8] index\n",
    "}\n",
    "\n",
    "closing_prices = {\n",
    "    'pred_ftse':  7981.14 ,\n",
    "    'pred_apple':  172.72 ,\n",
    "    'pred_goog':  154.98 ,\n",
    "    'pred_amd':  182.11 ,\n",
    "    'pred_sp':  5310.81 ,\n",
    "    'pred_nikkei':  39841.36 \n",
    "}\n",
    "\n",
    "\n",
    "stock_investment = {\n",
    "    'pred_ftse': 16199.135472,    # Shares: 2\n",
    "    'pred_apple': 8365.417881,    # Shares: 48\n",
    "    'pred_goog': 48406.880480,     # Shares: 317\n",
    "    'pred_sp': 22258.303349,     # Shares: 4\n",
    "    'pred_amd': 14382.492818     # Shares: 79\n",
    "}\n",
    "\n",
    "end_of_month_values = {stock: (stock_investment[stock] / predicted_prices[stock]) * closing_prices[stock] for stock in stock_investment}\n",
    "total_end_of_month_value = sum(end_of_month_values.values())\n",
    "\n",
    "total_initial_investment = sum(stock_investment.values())\n",
    "\n",
    "\n",
    "initial_nikkei_price = predicted_prices['pred_nikkei']\n",
    "final_nikkei_price = closing_prices['pred_nikkei']\n",
    "\n",
    "profit_nikkei = initial_nikkei_price - final_nikkei_price\n",
    "\n",
    "total_swing_profit = profit_nikkei\n",
    "\n",
    "\n",
    "total_end_of_month_value += total_swing_profit\n",
    "\n",
    "\n",
    "total_return = total_end_of_month_value - total_initial_investment\n",
    "return_percentage = (total_return / total_initial_investment) * 100\n",
    "total_return_of_portfel = total_swing_profit + total_return\n",
    "\n",
    "print(f\"End-of-Month Portfolio Value (excluding Nikkei): ${total_end_of_month_value:.2f}\")\n",
    "print(f\"Total Initial Investment (excluding Nikkei): ${total_initial_investment:.2f}\")\n",
    "print(f\"Profit from Swing Trading Nikkei: ${total_swing_profit:.2f}\")\n",
    "print(f\"Total Return: ${total_return:.2f}\")\n",
    "print(f\"Return Percentage: {return_percentage:.2f}%\")\n",
    "print(f\"Total Return (including Swing Trading): ${total_return_of_portfel}\")"
   ]
  },
  {
   "cell_type": "markdown",
   "metadata": {},
   "source": [
    "### Actual prices"
   ]
  },
  {
   "cell_type": "code",
   "execution_count": 83,
   "metadata": {},
   "outputs": [
    {
     "name": "stdout",
     "output_type": "stream",
     "text": [
      "Profit from Nikkei: $1176.15\n"
     ]
    }
   ],
   "source": [
    "\n",
    "initial_nikkei_price = data['nikkei'].iloc[8]\n",
    "final_nikkei_price = data['nikkei'].iloc[-1]\n",
    "\n",
    "\n",
    "profit_nikkei = initial_nikkei_price - final_nikkei_price\n",
    "\n",
    "\n",
    "total_profit = profit_nikkei\n",
    "\n",
    "\n",
    "print(f\"Profit from Nikkei: ${profit_nikkei:.2f}\")"
   ]
  },
  {
   "cell_type": "code",
   "execution_count": 85,
   "metadata": {},
   "outputs": [
    {
     "name": "stdout",
     "output_type": "stream",
     "text": [
      "End-of-Month Portfolio Value (excluding Nikkei): $110677.23\n",
      "Total Initial Investment (excluding Nikkei): $107678.77\n",
      "Profit from Swing Trading Nikkei: $1367.47\n",
      "Total Return: $2998.46\n",
      "Return Percentage: 2.78%\n",
      "Total Return (including Swing Trading): $4365.929999999986\n"
     ]
    }
   ],
   "source": [
    "import numpy as np\n",
    "\n",
    "\n",
    "actual_prices = {\n",
    "    'ftse':  7952.60 , 'apple':  171.48 , 'goog':  152.26 ,\n",
    "     'amd':  180.49 , 'sp':  5254.35 , 'nikkei':   39773.13  #[8] index\n",
    "}\n",
    "\n",
    "closing_prices = {\n",
    "    'ftse':  8144.13 , 'apple':  170.33 , 'goog':  164.64 ,\n",
    "    'amd':  158.38 , 'sp':  5035.69 , 'nikkei':  38405.66 \n",
    "}\n",
    "\n",
    "stock_investment = {\n",
    "    'ftse': 15905.2,    # Shares: 2\n",
    "    'apple': 8231.04,    # Shares: 48\n",
    "    'goog': 48266.42,     # Shares: 317\n",
    "    'sp': 21017.4,     # Shares: 4\n",
    "    'amd': 14258.71     # Shares: 79\n",
    "}\n",
    "\n",
    "\n",
    "end_of_month_values = {stock: (stock_investment[stock] / actual_prices[stock]) * closing_prices[stock] for stock in stock_investment}\n",
    "total_end_of_month_value = sum(end_of_month_values.values())\n",
    "\n",
    "\n",
    "total_initial_investment = sum(stock_investment.values())\n",
    "\n",
    "\n",
    "initial_nikkei_price = actual_prices['nikkei']\n",
    "final_nikkei_price = closing_prices['nikkei']\n",
    "\n",
    "\n",
    "profit_nikkei = initial_nikkei_price - final_nikkei_price\n",
    "\n",
    "total_swing_profit = profit_nikkei\n",
    "\n",
    "\n",
    "total_end_of_month_value += total_swing_profit\n",
    "\n",
    "\n",
    "total_return = total_end_of_month_value - total_initial_investment\n",
    "return_percentage = (total_return / total_initial_investment) * 100\n",
    "total_return_of_portfel = total_swing_profit + total_return\n",
    "\n",
    "\n",
    "print(f\"End-of-Month Portfolio Value (excluding Nikkei): ${total_end_of_month_value:.2f}\")\n",
    "print(f\"Total Initial Investment (excluding Nikkei): ${total_initial_investment:.2f}\")\n",
    "print(f\"Profit from Swing Trading Nikkei: ${total_swing_profit:.2f}\")\n",
    "print(f\"Total Return: ${total_return:.2f}\")\n",
    "print(f\"Return Percentage: {return_percentage:.2f}%\")\n",
    "print(f\"Total Return (including Swing Trading): ${total_return_of_portfel}\")"
   ]
  }
 ],
 "metadata": {
  "kernelspec": {
   "display_name": "base",
   "language": "python",
   "name": "python3"
  },
  "language_info": {
   "codemirror_mode": {
    "name": "ipython",
    "version": 3
   },
   "file_extension": ".py",
   "mimetype": "text/x-python",
   "name": "python",
   "nbconvert_exporter": "python",
   "pygments_lexer": "ipython3",
   "version": "3.8.8"
  }
 },
 "nbformat": 4,
 "nbformat_minor": 2
}
